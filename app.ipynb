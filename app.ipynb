{
 "cells": [
  {
   "cell_type": "code",
   "execution_count": null,
   "metadata": {},
   "outputs": [
    {
     "name": "stdout",
     "output_type": "stream",
     "text": [
      " * Serving Flask app \"__main__\" (lazy loading)\n",
      " * Environment: production\n",
      "   WARNING: This is a development server. Do not use it in a production deployment.\n",
      "   Use a production WSGI server instead.\n",
      " * Debug mode: off\n"
     ]
    },
    {
     "name": "stderr",
     "output_type": "stream",
     "text": [
      " * Running on http://127.0.0.1:5000/ (Press CTRL+C to quit)\n"
     ]
    }
   ],
   "source": [
    "import cv2\n",
    "from flask import Flask, Response\n",
    "\n",
    "app = Flask(__name__)\n",
    "\n",
    "@app.route('/')\n",
    "def index():\n",
    "    return render_template('index.html')\n",
    "\n",
    "def getFrames():\n",
    "    camera = cv2.VideoCapture(0)\n",
    "    winname = \"Users's face\"\n",
    "    cv2.namedWindow(winname)\n",
    "\n",
    "    while True:\n",
    "        ret, frame = camera.read()\n",
    "        if not ret:\n",
    "            print(\"failed to grab frame\")\n",
    "            break\n",
    "        cv2.imshow(winname, frame)\n",
    "    \n",
    "        key = cv2.waitKey(1)\n",
    "        if key == 27:\n",
    "            # ESC pressed..closing\n",
    "            print(\"You pushed escape button..closing....\")\n",
    "            break\n",
    "        \n",
    "        elif key == 32:\n",
    "            # SPACE pressed..take my picture and save it\n",
    "            img_name = \"./picture/user_frame.jpg\"\n",
    "            cv2.imwrite(img_name, frame)\n",
    "            print(\"{} be taken!!\".format(img_name))\n",
    "    camera.release()\n",
    "    cv2.destroyAllWindows()\n",
    "          \n",
    "@app.route('/test')\n",
    "def video_feed():\n",
    "    return Response(getFrames(), mimetype='multipart/x-mixed-replace; boundary=boundary')\n",
    "\n",
    "if __name__ == \"__main__\":\n",
    "    app.run()"
   ]
  },
  {
   "cell_type": "code",
   "execution_count": null,
   "metadata": {},
   "outputs": [],
   "source": []
  }
 ],
 "metadata": {
  "kernelspec": {
   "display_name": "Python 3",
   "language": "python",
   "name": "python3"
  },
  "language_info": {
   "codemirror_mode": {
    "name": "ipython",
    "version": 3
   },
   "file_extension": ".py",
   "mimetype": "text/x-python",
   "name": "python",
   "nbconvert_exporter": "python",
   "pygments_lexer": "ipython3",
   "version": "3.8.5"
  }
 },
 "nbformat": 4,
 "nbformat_minor": 4
}
