{
 "cells": [
  {
   "cell_type": "code",
   "execution_count": 3,
   "metadata": {},
   "outputs": [
    {
     "name": "stdout",
     "output_type": "stream",
     "text": [
      "./picture/user_frame.jpg be taken!!\n",
      "You pushed escape button..closing....\n"
     ]
    }
   ],
   "source": [
    "# take my picture\n",
    "import cv2\n",
    "\n",
    "camera = cv2.VideoCapture(0)\n",
    "\n",
    "# Create a windo\n",
    "winname = \"Users's face\"\n",
    "cv2.namedWindow(winname)\n",
    "\n",
    "while True:\n",
    "    ret, frame = camera.read()\n",
    "    if not ret:\n",
    "        print(\"failed to grab frame\")\n",
    "        break\n",
    "    cv2.imshow(winname, frame)\n",
    "    \n",
    "    key = cv2.waitKey(1)\n",
    "    if key == 27:\n",
    "        # ESC pressed..closing\n",
    "        print(\"You pushed escape button..closing....\")\n",
    "        break\n",
    "        \n",
    "    elif key == 32:\n",
    "        # SPACE pressed..take my picture and save it\n",
    "        img_name = \"./picture/user_frame.jpg\"\n",
    "        cv2.imwrite(img_name, frame)\n",
    "        print(\"{} be taken!!\".format(img_name))\n",
    "\n",
    "camera.release()\n",
    "cv2.destroyAllWindows()"
   ]
  },
  {
   "cell_type": "code",
   "execution_count": null,
   "metadata": {},
   "outputs": [],
   "source": []
  }
 ],
 "metadata": {
  "kernelspec": {
   "display_name": "Python 3",
   "language": "python",
   "name": "python3"
  },
  "language_info": {
   "codemirror_mode": {
    "name": "ipython",
    "version": 3
   },
   "file_extension": ".py",
   "mimetype": "text/x-python",
   "name": "python",
   "nbconvert_exporter": "python",
   "pygments_lexer": "ipython3",
   "version": "3.8.5"
  }
 },
 "nbformat": 4,
 "nbformat_minor": 4
}
